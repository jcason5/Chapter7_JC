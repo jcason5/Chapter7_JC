{
 "cells": [
  {
   "cell_type": "markdown",
   "metadata": {},
   "source": [
    "# While Loop\n",
    "* The for loop takes a collection of items and executes a block of code once for each item in the collection. \n",
    "* In contrast, the while loop runs as long as, or while, a certain condition is true."
   ]
  },
  {
   "cell_type": "markdown",
   "metadata": {},
   "source": [
    "## The while Loop in Action\n",
    "You can use a while loop to count up through a series of numbers. For\n",
    "example, the following while loop counts from 1 to 5:\n"
   ]
  },
  {
   "cell_type": "code",
   "execution_count": 1,
   "metadata": {},
   "outputs": [
    {
     "name": "stdout",
     "output_type": "stream",
     "text": [
      "1\n",
      "2\n",
      "3\n",
      "4\n",
      "5\n"
     ]
    }
   ],
   "source": [
    "#forloop to print 1 to 5\n",
    "for x in range (1,6):\n",
    "    print(x)"
   ]
  },
  {
   "cell_type": "code",
   "execution_count": 2,
   "metadata": {},
   "outputs": [
    {
     "name": "stdout",
     "output_type": "stream",
     "text": [
      "1\n",
      "2\n",
      "3\n",
      "4\n",
      "5\n"
     ]
    }
   ],
   "source": [
    "#initialize \n",
    "j=1\n",
    "while j<=5:\n",
    "    print(j)\n",
    "    #inrement or generate infinite loop\n",
    "    j=j+1"
   ]
  },
  {
   "cell_type": "code",
   "execution_count": 3,
   "metadata": {},
   "outputs": [
    {
     "name": "stdout",
     "output_type": "stream",
     "text": [
      "10 11 12 13 14 15 16 17 18 19 20 21 22 23 24 25 26 27 28 29 30 31 32 33 34 35 36 37 38 39 40 41 42 43 44 45 46 47 48 49 50 "
     ]
    }
   ],
   "source": [
    "y=10\n",
    "while y<=50:\n",
    "    print(y, end=\" \")\n",
    "    y+=1"
   ]
  },
  {
   "cell_type": "code",
   "execution_count": 4,
   "metadata": {},
   "outputs": [
    {
     "name": "stdout",
     "output_type": "stream",
     "text": [
      "10 12 14 16 18 20 22 24 26 28 30 32 34 36 38 40 42 44 46 48 50 "
     ]
    }
   ],
   "source": [
    "j=10\n",
    "while j<=50:\n",
    "    if j%2==0:\n",
    "        print(j, end=\" \")\n",
    "    j+=1"
   ]
  },
  {
   "cell_type": "code",
   "execution_count": 5,
   "metadata": {},
   "outputs": [
    {
     "name": "stdout",
     "output_type": "stream",
     "text": [
      "15 17 19 21 23 25 27 29 "
     ]
    }
   ],
   "source": [
    "j=15\n",
    "while j<=30:\n",
    "    if j%2==1:\n",
    "        print(j, end=\" \")\n",
    "    j+=1"
   ]
  },
  {
   "cell_type": "code",
   "execution_count": 6,
   "metadata": {},
   "outputs": [
    {
     "name": "stdout",
     "output_type": "stream",
     "text": [
      "15 17 19 21 23 25 27 29 "
     ]
    }
   ],
   "source": [
    "for j in range (15,31):\n",
    "    if j%2==1:\n",
    "        print(j, end=\" \")"
   ]
  },
  {
   "cell_type": "markdown",
   "metadata": {},
   "source": [
    "## Letting the User Choose When to Quit"
   ]
  },
  {
   "cell_type": "markdown",
   "metadata": {},
   "source": [
    "## A Flag"
   ]
  },
  {
   "cell_type": "markdown",
   "metadata": {
    "slideshow": {
     "slide_type": "subslide"
    }
   },
   "source": [
    "### For a program that should run only as long as many conditions are true, you can define one variable that determines whether or not the entire program is active. This variable, called a `flag`, acts as a signal to the program."
   ]
  },
  {
   "cell_type": "code",
   "execution_count": 41,
   "metadata": {},
   "outputs": [
    {
     "name": "stdout",
     "output_type": "stream",
     "text": [
      "\n",
      "Tell me anything and I will repeat it back to you. Enter 'quit' to end the loop.John\n",
      "John\n",
      "\n",
      "Tell me anything and I will repeat it back to you. Enter 'quit' to end the loop.Quit\n",
      "Quit\n",
      "\n",
      "Tell me anything and I will repeat it back to you. Enter 'quit' to end the loop.quit\n"
     ]
    }
   ],
   "source": [
    "prompt=\"\\nTell me anything and I will repeat it back to you. Enter \\'quit\\' to end the loop.\"\n",
    "# flag\n",
    "message= \" \"\n",
    "active=True\n",
    "while active:\n",
    "    message=input(prompt)\n",
    "    if message=='quit':\n",
    "        active=False # flag turned off\n",
    "    else:\n",
    "        print(message)"
   ]
  },
  {
   "cell_type": "code",
   "execution_count": 11,
   "metadata": {},
   "outputs": [
    {
     "name": "stdout",
     "output_type": "stream",
     "text": [
      "hello hello hello hello hello hello hello hello hello hello "
     ]
    }
   ],
   "source": [
    "for x in range(10):\n",
    "    print(\"hello\", end=\" \")"
   ]
  },
  {
   "cell_type": "markdown",
   "metadata": {},
   "source": [
    "## Using break to Exit a Loop\n",
    "To exit a while loop immediately without running any remaining code in the\n",
    "loop, regardless of the results of any conditional test, use the break statement."
   ]
  },
  {
   "cell_type": "code",
   "execution_count": 42,
   "metadata": {},
   "outputs": [
    {
     "name": "stdout",
     "output_type": "stream",
     "text": [
      "\n",
      "Tell me some of your friends name and I will repeat it back to you. Enter 'quit' to end the loop.John\n",
      "John\n",
      "\n",
      "Tell me some of your friends name and I will repeat it back to you. Enter 'quit' to end the loop.quit\n"
     ]
    }
   ],
   "source": [
    "prompt=\"\\nTell me some of your friends name and I will repeat it back to you. Enter \\'quit\\' to end the loop.\"\n",
    "friends= \" \"\n",
    "active= True\n",
    "while active:\n",
    "    friends=input(prompt)\n",
    "    if friends=='quit':\n",
    "        break\n",
    "    else:\n",
    "        print(friends)"
   ]
  },
  {
   "cell_type": "code",
   "execution_count": null,
   "metadata": {},
   "outputs": [],
   "source": []
  },
  {
   "cell_type": "markdown",
   "metadata": {},
   "source": [
    "### Guess the number"
   ]
  },
  {
   "cell_type": "code",
   "execution_count": 43,
   "metadata": {},
   "outputs": [
    {
     "name": "stdout",
     "output_type": "stream",
     "text": [
      "\n",
      " Guess a number between 1 to 10: 7\n",
      "7\n",
      "Guess again\n",
      "\n",
      " Guess a number between 1 to 10: 2\n",
      "2\n",
      "Guess again\n",
      "\n",
      " Guess a number between 1 to 10: 1\n",
      "1\n",
      "Guess again\n",
      "\n",
      " Guess a number between 1 to 10: 3\n",
      "3\n",
      "Guess again\n",
      "\n",
      " Guess a number between 1 to 10: 4\n",
      "4\n",
      "Guess again\n",
      "\n",
      " Guess a number between 1 to 10: 5\n",
      "Correct guess\n"
     ]
    }
   ],
   "source": [
    "prompt=\"\\n Guess a number between 1 to 10: \"\n",
    "number=0\n",
    "active= True\n",
    "while active:\n",
    "    number=int(input(prompt))\n",
    "    if number==5:\n",
    "        print(\"Correct guess\")\n",
    "        break\n",
    "    else:\n",
    "        print(number)\n",
    "        print(\"Guess again\")"
   ]
  },
  {
   "cell_type": "code",
   "execution_count": null,
   "metadata": {},
   "outputs": [],
   "source": []
  },
  {
   "cell_type": "markdown",
   "metadata": {},
   "source": [
    "### Guess the number with proper direction"
   ]
  },
  {
   "cell_type": "code",
   "execution_count": 44,
   "metadata": {},
   "outputs": [
    {
     "name": "stdout",
     "output_type": "stream",
     "text": [
      "\n",
      " guess a number between 1 to 10: 5\n",
      "You have guessed correctly!\n"
     ]
    }
   ],
   "source": [
    "prompt=\"\\n guess a number between 1 to 10: \"\n",
    "active = True\n",
    "number = 0\n",
    "while active:\n",
    "    number = int(input(prompt))\n",
    "    if number==5:\n",
    "        print(\"You have guessed correctly!\")\n",
    "        break\n",
    "    elif number<5:\n",
    "        print(\"Guess the number bigger than current guess\")\n",
    "    elif number>5 and number<=10:\n",
    "        print(\"Guess the number less than current guess\")\n",
    "    else:\n",
    "        print(\"Not a correct number, guess again\")"
   ]
  },
  {
   "cell_type": "code",
   "execution_count": null,
   "metadata": {},
   "outputs": [],
   "source": []
  },
  {
   "cell_type": "markdown",
   "metadata": {},
   "source": [
    "### Break with for loop"
   ]
  },
  {
   "cell_type": "code",
   "execution_count": 45,
   "metadata": {},
   "outputs": [
    {
     "name": "stdout",
     "output_type": "stream",
     "text": [
      "10 11 12 13 14 "
     ]
    }
   ],
   "source": [
    "# print the numbers between 10 to 30 \n",
    "# break the loop at the number 15\n",
    "for i in range(10,30):\n",
    "    if i==15:\n",
    "        break\n",
    "    print(i, end= \" \")"
   ]
  },
  {
   "cell_type": "code",
   "execution_count": null,
   "metadata": {},
   "outputs": [],
   "source": []
  },
  {
   "cell_type": "markdown",
   "metadata": {},
   "source": [
    "### Using continue in a Loop\n",
    "- Rather than breaking out of a loop entirely without executing the rest of its code, \n",
    "- you can use the continue statement to return to the beginning of the loop based on the result of a conditional test. \n",
    "- For example, consider a loop that counts from 1 to 10 but prints only the odd numbers in that range:"
   ]
  },
  {
   "cell_type": "code",
   "execution_count": 46,
   "metadata": {},
   "outputs": [
    {
     "name": "stdout",
     "output_type": "stream",
     "text": [
      "10 11 12 13 14 16 17 18 19 20 21 22 23 24 25 26 27 28 29 "
     ]
    }
   ],
   "source": [
    "for i in range(10, 30):\n",
    "    if i==15:\n",
    "        continue\n",
    "    print(i, end= \" \")"
   ]
  },
  {
   "cell_type": "code",
   "execution_count": 47,
   "metadata": {},
   "outputs": [
    {
     "name": "stdout",
     "output_type": "stream",
     "text": [
      "1 3 5 7 9 "
     ]
    }
   ],
   "source": [
    "#consider a loop that counts from 1 to 10 but prints only the odd numbers in that range\n",
    "for i in range (1,11):\n",
    "    if i%2==0:\n",
    "        continue\n",
    "    print(i, end= \" \")"
   ]
  },
  {
   "cell_type": "markdown",
   "metadata": {},
   "source": [
    "### consider a loop (while/for) that counts from 10 to 20 but prints only the even numbers in that range, use continue statement:"
   ]
  },
  {
   "cell_type": "code",
   "execution_count": 48,
   "metadata": {},
   "outputs": [],
   "source": [
    "# Inside a while loop a continue will not work. It will generate an infinite loop."
   ]
  },
  {
   "cell_type": "code",
   "execution_count": null,
   "metadata": {},
   "outputs": [],
   "source": []
  },
  {
   "cell_type": "markdown",
   "metadata": {},
   "source": [
    "### Avoiding Infinite Loops"
   ]
  },
  {
   "cell_type": "markdown",
   "metadata": {},
   "source": [
    "### Movie Tickets: A movie theater charges different ticket prices depending on a person’s age. \n",
    "- If a person is under the age of 3, the ticket is free; if they are between 3 and 12, the ticket is 10 dollar\n",
    "- if they are over age 12, the ticket is 15 dollar. \n",
    "Write a while loop in which you ask users their age, and then tell them the cost of their movie ticket."
   ]
  },
  {
   "cell_type": "code",
   "execution_count": 49,
   "metadata": {},
   "outputs": [
    {
     "name": "stdout",
     "output_type": "stream",
     "text": [
      "\n",
      "Enter the age. input -1 to quit: 17\n",
      "Pay 15$ for the ticket\n",
      "\n",
      "Enter the age. input -1 to quit: -1\n"
     ]
    }
   ],
   "source": [
    "prompt= \"\\nEnter the age. input -1 to quit: \"\n",
    "active= True\n",
    "age=0\n",
    "while active:\n",
    "    age=int(input(prompt))\n",
    "    if age==-1:\n",
    "        break\n",
    "    elif age<3:\n",
    "        print(\"The ticket is free\")\n",
    "    elif age<12:\n",
    "        print(\"Pay 10 $ for the ticket\")\n",
    "    else:\n",
    "        print(\"Pay 15$ for the ticket\")"
   ]
  },
  {
   "cell_type": "code",
   "execution_count": null,
   "metadata": {},
   "outputs": [],
   "source": []
  },
  {
   "cell_type": "markdown",
   "metadata": {},
   "source": [
    "## Using a while Loop with Lists and Dictionaries"
   ]
  },
  {
   "cell_type": "markdown",
   "metadata": {},
   "source": [
    "### Moving Items from One List to Another"
   ]
  },
  {
   "cell_type": "code",
   "execution_count": 12,
   "metadata": {},
   "outputs": [
    {
     "name": "stdout",
     "output_type": "stream",
     "text": [
      "sam\n",
      "dave\n",
      "emma\n",
      "john\n",
      "Final list: ['sam', 'dave', 'emma', 'john']\n"
     ]
    }
   ],
   "source": [
    "#name of friends and move from friends list to peers list\n",
    "#unpack list\n",
    "friends=['john','emma','dave','sam']\n",
    "peers=[]\n",
    "hold=\" \"\n",
    "while friends:\n",
    "    hold=friends.pop()\n",
    "    print(hold)\n",
    "    peers.append(hold)\n",
    "print(f\"Final list: {peers}\")"
   ]
  },
  {
   "cell_type": "code",
   "execution_count": 13,
   "metadata": {},
   "outputs": [
    {
     "name": "stdout",
     "output_type": "stream",
     "text": [
      "sam is my peer\n",
      "dave is my peer\n",
      "emma is my peer\n",
      "john is my peer\n"
     ]
    }
   ],
   "source": [
    "#unpack list\n",
    "for name in peers:\n",
    "    print(f\"{name} is my peer\")"
   ]
  },
  {
   "cell_type": "markdown",
   "metadata": {},
   "source": [
    "### Removing All Instances of Specific Values from a List"
   ]
  },
  {
   "cell_type": "code",
   "execution_count": 14,
   "metadata": {},
   "outputs": [
    {
     "name": "stdout",
     "output_type": "stream",
     "text": [
      "['dog', 'cat', 'dog', 'goldfish', 'cat', 'rabbit', 'cat']\n",
      "New list: ['dog', 'dog', 'goldfish', 'rabbit']\n",
      "New list: ['goldfish', 'rabbit']\n"
     ]
    }
   ],
   "source": [
    "pets=['dog','cat','dog','goldfish','cat','rabbit','cat']\n",
    "print(pets)\n",
    "#remove cat from list\n",
    "while 'cat' in pets:\n",
    "    pets.remove('cat')\n",
    "print(f\"New list: {pets}\")\n",
    "\n",
    "while 'dog' in pets:\n",
    "    pets.remove('dog')\n",
    "print(f\"New list: {pets}\")"
   ]
  },
  {
   "cell_type": "code",
   "execution_count": null,
   "metadata": {},
   "outputs": [],
   "source": []
  },
  {
   "cell_type": "markdown",
   "metadata": {},
   "source": [
    "### Filling a Dictionary with User Input"
   ]
  },
  {
   "cell_type": "markdown",
   "metadata": {},
   "source": [
    "### we are asking the user to input there name as dictionary keys and there favorite food as dictionary values\n"
   ]
  },
  {
   "cell_type": "code",
   "execution_count": 15,
   "metadata": {},
   "outputs": [
    {
     "name": "stdout",
     "output_type": "stream",
     "text": [
      "What is your name? John\n",
      "Enter favorite food: pizza\n",
      "{'John': 'pizza'}\n",
      "Would you like to enter another entry? (yes/no)no\n",
      "{'John': 'pizza'}\n"
     ]
    }
   ],
   "source": [
    "response={}\n",
    "#poll is a flag\n",
    "poll= True\n",
    "while poll:\n",
    "    name= input(\"What is your name? \")\n",
    "    food=input(\"Enter favorite food: \")\n",
    "    #update method to addd items\n",
    "    response.update({name:food})\n",
    "    print(response)\n",
    "    repeat=input(\"Would you like to enter another entry? (yes/no)\")\n",
    "    if repeat=='no':\n",
    "        poll=False\n",
    "        #break\n",
    "print(response)"
   ]
  },
  {
   "cell_type": "code",
   "execution_count": 16,
   "metadata": {},
   "outputs": [
    {
     "name": "stdout",
     "output_type": "stream",
     "text": [
      "John love to eat pizza\n"
     ]
    }
   ],
   "source": [
    "#unpack\n",
    "for name,food in response.items():\n",
    "    print(f\"{name} love to eat {food}\")"
   ]
  },
  {
   "cell_type": "markdown",
   "metadata": {},
   "source": [
    "## Deli: Make a list called sandwich_orders and fill it with the names of various sandwiches. \n",
    "- Then make an empty list called finished_sandwiches. \n",
    "- Loop through the list of sandwich orders and print a message for each order, such as I made your tuna sandwich. \n",
    "- As each sandwich is made, move it to the list of finished sandwiches. \n",
    "- After all the sandwiches have been made, print a message listing each sandwich that was made."
   ]
  },
  {
   "cell_type": "code",
   "execution_count": 17,
   "metadata": {},
   "outputs": [
    {
     "name": "stdout",
     "output_type": "stream",
     "text": [
      "Your sandwiches are in process: ['tuna', 'salamy', 'ham', 'turkey']\n"
     ]
    }
   ],
   "source": [
    "sandwich_orders=['turkey','ham','salamy','tuna']\n",
    "finished_sandwich=[]\n",
    "wip=\" \"\n",
    "while sandwich_orders:\n",
    "    wip=sandwich_orders.pop()\n",
    "    finished_sandwich.append(wip)\n",
    "print(f\"Your sandwiches are in process: {finished_sandwich}\")"
   ]
  },
  {
   "cell_type": "code",
   "execution_count": 18,
   "metadata": {},
   "outputs": [
    {
     "name": "stdout",
     "output_type": "stream",
     "text": [
      "I made a tuna sandwich\n",
      "I made a salamy sandwich\n",
      "I made a ham sandwich\n",
      "I made a turkey sandwich\n"
     ]
    }
   ],
   "source": [
    "for name in finished_sandwich:\n",
    "    print(f\"I made a {name} sandwich\")"
   ]
  },
  {
   "cell_type": "markdown",
   "metadata": {},
   "source": [
    "### grocery list of 5 items"
   ]
  },
  {
   "cell_type": "code",
   "execution_count": 19,
   "metadata": {},
   "outputs": [
    {
     "name": "stdout",
     "output_type": "stream",
     "text": [
      "Enter item name: pizza\n",
      "Enter item quantity: 2\n",
      "{'pizza': 2}\n",
      "Would you like to enter another item? (yes/no)no\n",
      "{'pizza': 2}\n"
     ]
    }
   ],
   "source": [
    "shopping={}\n",
    "poll=True\n",
    "while poll:\n",
    "    item_name= input(\"Enter item name: \")\n",
    "    item_quantity=int(input(\"Enter item quantity: \"))\n",
    "    shopping.update({item_name:item_quantity})\n",
    "    print(shopping)\n",
    "    repeat=input(\"Would you like to enter another item? (yes/no)\")\n",
    "    if repeat=='no':\n",
    "        poll=False\n",
    "print(shopping)"
   ]
  },
  {
   "cell_type": "markdown",
   "metadata": {},
   "source": [
    "## Write a program to print n natural number in descending order using a while loop.\n"
   ]
  },
  {
   "cell_type": "code",
   "execution_count": 9,
   "metadata": {},
   "outputs": [
    {
     "name": "stdout",
     "output_type": "stream",
     "text": [
      "Enter value of n: 4\n",
      "4\n",
      "3\n",
      "2\n",
      "1\n"
     ]
    }
   ],
   "source": [
    "n=int(input(\"Enter value of n: \"))\n",
    "#loop end at 0\n",
    "while n!=0:\n",
    "    print(n)\n",
    "    n=n-1"
   ]
  },
  {
   "cell_type": "code",
   "execution_count": null,
   "metadata": {},
   "outputs": [],
   "source": []
  },
  {
   "cell_type": "markdown",
   "metadata": {},
   "source": [
    "## Factorial of a number"
   ]
  },
  {
   "cell_type": "code",
   "execution_count": 23,
   "metadata": {},
   "outputs": [
    {
     "name": "stdout",
     "output_type": "stream",
     "text": [
      "Enter value of n: 4\n",
      "24\n"
     ]
    }
   ],
   "source": [
    "n=int(input(\"Enter value of n: \"))\n",
    "fact=1\n",
    "while(n):\n",
    "    fact = fact * n\n",
    "    n = n-1\n",
    "print(fact)"
   ]
  },
  {
   "cell_type": "code",
   "execution_count": null,
   "metadata": {},
   "outputs": [],
   "source": []
  },
  {
   "cell_type": "markdown",
   "metadata": {},
   "source": [
    "## Take 10 integers from keyboard using loop and print their sum and average value on the screen"
   ]
  },
  {
   "cell_type": "code",
   "execution_count": 51,
   "metadata": {},
   "outputs": [
    {
     "name": "stdout",
     "output_type": "stream",
     "text": [
      "Enter number: 1\n",
      "Enter number: 2\n",
      "Enter number: 3\n",
      "Enter number: 4\n",
      "Enter number: 5\n",
      "Enter number: 6\n",
      "Enter number: 7\n",
      "Enter number: 8\n",
      "Enter number: 9\n",
      "Enter number: 10\n",
      "average is: 5.5\n"
     ]
    }
   ],
   "source": [
    "sum = 0\n",
    "i = 0\n",
    "while i<10:\n",
    "    num=int(input(\"Enter number: \"))\n",
    "    sum=sum+num\n",
    "    i = i+1\n",
    "print(f\"average is: {sum/10}\") "
   ]
  },
  {
   "attachments": {
    "image.png": {
     "image/png": "[encoded data removed]"
    }
   },
   "cell_type": "markdown",
   "metadata": {},
   "source": [
    "#### Print the following patterns using loop :\n",
    "![image.png](attachment:image.png)"
   ]
  },
  {
   "cell_type": "code",
   "execution_count": 26,
   "metadata": {},
   "outputs": [
    {
     "name": "stdout",
     "output_type": "stream",
     "text": [
      "*\n",
      "**\n",
      "***\n",
      "****\n"
     ]
    }
   ],
   "source": [
    "i=1\n",
    "while i<=4:\n",
    "    print(i*\"*\")\n",
    "    i+=1"
   ]
  },
  {
   "cell_type": "markdown",
   "metadata": {},
   "source": [
    "## Write a program to display the first 7 multiples of 7.\n"
   ]
  },
  {
   "cell_type": "code",
   "execution_count": 34,
   "metadata": {},
   "outputs": [
    {
     "name": "stdout",
     "output_type": "stream",
     "text": [
      "7 count 1\n",
      "14 count 2\n",
      "21 count 3\n",
      "28 count 4\n",
      "35 count 5\n",
      "42 count 6\n",
      "49 count 7\n",
      "56 count 8\n"
     ]
    }
   ],
   "source": [
    "count=0\n",
    "for i in range(1,100):\n",
    "    if i%7==0:\n",
    "        print(i, end=\" \")\n",
    "        count=count+1\n",
    "        print(\"count\",count)\n",
    "        if count ==8:\n",
    "            break"
   ]
  },
  {
   "cell_type": "markdown",
   "metadata": {},
   "source": [
    "## Write a program that appends the square of each number to a new list."
   ]
  },
  {
   "cell_type": "code",
   "execution_count": 37,
   "metadata": {},
   "outputs": [
    {
     "name": "stdout",
     "output_type": "stream",
     "text": [
      "[1]\n",
      "[1, 4]\n",
      "[1, 4, 9]\n",
      "[1, 4, 9, 16]\n",
      "[1, 4, 9, 16, 25]\n"
     ]
    }
   ],
   "source": [
    "x=[1,2,3,4,5]\n",
    "output=[]\n",
    "\n",
    "for i in x:\n",
    "    output.append(i**2)\n",
    "    print(output)"
   ]
  },
  {
   "cell_type": "code",
   "execution_count": null,
   "metadata": {},
   "outputs": [],
   "source": []
  },
  {
   "cell_type": "markdown",
   "metadata": {},
   "source": [
    "## Separate positive and negative number from a list.\n",
    "x = [23,12,-4,23,-9,21,3,-45,-8]"
   ]
  },
  {
   "cell_type": "code",
   "execution_count": 53,
   "metadata": {},
   "outputs": [
    {
     "name": "stdout",
     "output_type": "stream",
     "text": [
      "pos list [23, 12, 23, 21, 3]\n",
      "neg list [-4, -9, -45, -8]\n"
     ]
    }
   ],
   "source": [
    "x = [23,12,-4,23,-9,21,3,-45,-8]\n",
    "pos=[]\n",
    "neg=[]\n",
    "for i in x:\n",
    "    if i>=0:\n",
    "        pos.append(i)\n",
    "    else:\n",
    "        neg.append(i)\n",
    "print(\"pos list\",pos)\n",
    "print(\"neg list\", neg)"
   ]
  },
  {
   "cell_type": "code",
   "execution_count": null,
   "metadata": {},
   "outputs": [],
   "source": []
  }
 ],
 "metadata": {
  "celltoolbar": "Slideshow",
  "kernelspec": {
   "display_name": "Python 3 (ipykernel)",
   "language": "python",
   "name": "python3"
  },
  "language_info": {
   "codemirror_mode": {
    "name": "ipython",
    "version": 3
   },
   "file_extension": ".py",
   "mimetype": "text/x-python",
   "name": "python",
   "nbconvert_exporter": "python",
   "pygments_lexer": "ipython3",
   "version": "3.11.4"
  }
 },
 "nbformat": 4,
 "nbformat_minor": 2
}
